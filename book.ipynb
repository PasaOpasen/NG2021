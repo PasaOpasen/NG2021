{
 "metadata": {
  "language_info": {
   "codemirror_mode": {
    "name": "ipython",
    "version": 3
   },
   "file_extension": ".py",
   "mimetype": "text/x-python",
   "name": "python",
   "nbconvert_exporter": "python",
   "pygments_lexer": "ipython3",
   "version": "3.8.3-final"
  },
  "orig_nbformat": 2,
  "kernelspec": {
   "name": "python383jvsc74a57bd0288d3f8b6c82b027ac4ed946d3aabc7652bb225fba38d3bc6851e9c04188b5ae",
   "display_name": "Python 3.8.3 64-bit"
  },
  "metadata": {
   "interpreter": {
    "hash": "288d3f8b6c82b027ac4ed946d3aabc7652bb225fba38d3bc6851e9c04188b5ae"
   }
  }
 },
 "nbformat": 4,
 "nbformat_minor": 2,
 "cells": [
  {
   "cell_type": "code",
   "execution_count": 30,
   "metadata": {},
   "outputs": [],
   "source": [
    "\n",
    "import os\n",
    "\n",
    "import socket\n",
    "\n",
    "import numpy as np \n",
    "import pandas as pd\n",
    "\n",
    "a_file = './A/A.csv'\n",
    "b_file = './B/B.csv'\n",
    "c_file = './F/F.csv'\n",
    "\n",
    "T0 = 5*60"
   ]
  },
  {
   "cell_type": "code",
   "execution_count": 31,
   "metadata": {},
   "outputs": [
    {
     "output_type": "execute_result",
     "data": {
      "text/plain": [
       "           Sour IP  Dest IP  Numb P  Data  Sour Port  Dest Port     Time \n",
       "0   192.133.154.32      NaN      12   263      13704      11469  0:57:36 \n",
       "1  192.111.168.170      NaN       2   138      43414      41879  0:43:12 \n",
       "2   192.145.203.65      NaN      14   252      22513      54661  1:40:48 \n",
       "3   192.83.225.215      NaN       3   135       8158      11146  1:40:48 \n",
       "4   192.98.242.158      NaN       9    89      31788      48719  0:57:36 "
      ],
      "text/html": "<div>\n<style scoped>\n    .dataframe tbody tr th:only-of-type {\n        vertical-align: middle;\n    }\n\n    .dataframe tbody tr th {\n        vertical-align: top;\n    }\n\n    .dataframe thead th {\n        text-align: right;\n    }\n</style>\n<table border=\"1\" class=\"dataframe\">\n  <thead>\n    <tr style=\"text-align: right;\">\n      <th></th>\n      <th>Sour IP</th>\n      <th>Dest IP</th>\n      <th>Numb P</th>\n      <th>Data</th>\n      <th>Sour Port</th>\n      <th>Dest Port</th>\n      <th>Time</th>\n    </tr>\n  </thead>\n  <tbody>\n    <tr>\n      <th>0</th>\n      <td>192.133.154.32</td>\n      <td>NaN</td>\n      <td>12</td>\n      <td>263</td>\n      <td>13704</td>\n      <td>11469</td>\n      <td>0:57:36</td>\n    </tr>\n    <tr>\n      <th>1</th>\n      <td>192.111.168.170</td>\n      <td>NaN</td>\n      <td>2</td>\n      <td>138</td>\n      <td>43414</td>\n      <td>41879</td>\n      <td>0:43:12</td>\n    </tr>\n    <tr>\n      <th>2</th>\n      <td>192.145.203.65</td>\n      <td>NaN</td>\n      <td>14</td>\n      <td>252</td>\n      <td>22513</td>\n      <td>54661</td>\n      <td>1:40:48</td>\n    </tr>\n    <tr>\n      <th>3</th>\n      <td>192.83.225.215</td>\n      <td>NaN</td>\n      <td>3</td>\n      <td>135</td>\n      <td>8158</td>\n      <td>11146</td>\n      <td>1:40:48</td>\n    </tr>\n    <tr>\n      <th>4</th>\n      <td>192.98.242.158</td>\n      <td>NaN</td>\n      <td>9</td>\n      <td>89</td>\n      <td>31788</td>\n      <td>48719</td>\n      <td>0:57:36</td>\n    </tr>\n  </tbody>\n</table>\n</div>"
     },
     "metadata": {},
     "execution_count": 31
    }
   ],
   "source": [
    "\n",
    "def read_data(file, my_socket = None):\n",
    "\n",
    "    my_socket = socket.gethostbyname(socket.gethostname()) if my_socket is None else my_socket\n",
    "\n",
    "    data = pd.read_csv(file, sep=';')\n",
    "\n",
    "    data = data[data['Sour IP'] != socket]\n",
    "\n",
    "    #data = data[data['Dest IP'] == socket] \n",
    "\n",
    "    return data\n",
    "\n",
    "\n",
    "A = read_data('./A/A.csv')\n",
    "\n",
    "A.head()"
   ]
  },
  {
   "cell_type": "code",
   "execution_count": 32,
   "metadata": {},
   "outputs": [],
   "source": [
    "def time2number(time: str):\n",
    "    h, m, s = [int(t) for t in time.split(':')]\n",
    "    return s + 60*m + 3600*h"
   ]
  },
  {
   "cell_type": "code",
   "execution_count": 33,
   "metadata": {
    "tags": []
   },
   "outputs": [
    {
     "output_type": "stream",
     "name": "stdout",
     "text": [
      "Index(['Sour IP', 'Dest IP', 'Numb P', 'Data', 'Sour Port', 'Dest Port',\n       'Time '],\n      dtype='object')\n"
     ]
    },
    {
     "output_type": "execute_result",
     "data": {
      "text/plain": [
       "           Sour IP  Dest IP  Numb P  Data  Sour Port  Dest Port     Time \n",
       "0   192.133.154.32      NaN      12   263      13704      11469  0:57:36 \n",
       "1  192.111.168.170      NaN       2   138      43414      41879  0:43:12 \n",
       "2   192.145.203.65      NaN      14   252      22513      54661  1:40:48 \n",
       "3   192.83.225.215      NaN       3   135       8158      11146  1:40:48 \n",
       "4   192.98.242.158      NaN       9    89      31788      48719  0:57:36 "
      ],
      "text/html": "<div>\n<style scoped>\n    .dataframe tbody tr th:only-of-type {\n        vertical-align: middle;\n    }\n\n    .dataframe tbody tr th {\n        vertical-align: top;\n    }\n\n    .dataframe thead th {\n        text-align: right;\n    }\n</style>\n<table border=\"1\" class=\"dataframe\">\n  <thead>\n    <tr style=\"text-align: right;\">\n      <th></th>\n      <th>Sour IP</th>\n      <th>Dest IP</th>\n      <th>Numb P</th>\n      <th>Data</th>\n      <th>Sour Port</th>\n      <th>Dest Port</th>\n      <th>Time</th>\n    </tr>\n  </thead>\n  <tbody>\n    <tr>\n      <th>0</th>\n      <td>192.133.154.32</td>\n      <td>NaN</td>\n      <td>12</td>\n      <td>263</td>\n      <td>13704</td>\n      <td>11469</td>\n      <td>0:57:36</td>\n    </tr>\n    <tr>\n      <th>1</th>\n      <td>192.111.168.170</td>\n      <td>NaN</td>\n      <td>2</td>\n      <td>138</td>\n      <td>43414</td>\n      <td>41879</td>\n      <td>0:43:12</td>\n    </tr>\n    <tr>\n      <th>2</th>\n      <td>192.145.203.65</td>\n      <td>NaN</td>\n      <td>14</td>\n      <td>252</td>\n      <td>22513</td>\n      <td>54661</td>\n      <td>1:40:48</td>\n    </tr>\n    <tr>\n      <th>3</th>\n      <td>192.83.225.215</td>\n      <td>NaN</td>\n      <td>3</td>\n      <td>135</td>\n      <td>8158</td>\n      <td>11146</td>\n      <td>1:40:48</td>\n    </tr>\n    <tr>\n      <th>4</th>\n      <td>192.98.242.158</td>\n      <td>NaN</td>\n      <td>9</td>\n      <td>89</td>\n      <td>31788</td>\n      <td>48719</td>\n      <td>0:57:36</td>\n    </tr>\n  </tbody>\n</table>\n</div>"
     },
     "metadata": {},
     "execution_count": 33
    }
   ],
   "source": [
    "\n",
    "def AtoB(a_file = './A/A.csv', b_file = './B/B.csv', my_socket = None):\n",
    "\n",
    "    A = read_data(a_file, my_socket)\n",
    "    if os.path.exists(b_file):\n",
    "        B = read_data(b_file, my_socket)\n",
    "        A = pd.concat([A, B], ignore_index=True)\n",
    "\n",
    "    # можно и из А убрать те 5 минут\n",
    "    print(A.columns)\n",
    "    times = np.array([time2number(time) for time in A['Time '].values])\n",
    "    time_mask = times > (times.max() - 5*60)\n",
    "\n",
    "    A.loc[time_mask,:].to_csv(b_file, index=False,  sep=';')\n",
    "\n",
    "    return A\n",
    "    \n",
    "\n",
    "F = AtoB()\n",
    "\n",
    "F.head()"
   ]
  },
  {
   "cell_type": "code",
   "execution_count": 34,
   "metadata": {},
   "outputs": [
    {
     "output_type": "execute_result",
     "data": {
      "text/plain": [
       "            Sour IP  Dest IP  Numb P  Data  Sour Port  Dest Port     Time \n",
       "1   192.111.168.170      NaN       2   138      43414      41879  0:43:12 \n",
       "3    192.83.225.215      NaN       3   135       8158      11146  1:40:48 \n",
       "5      192.41.29.75      NaN       2    79      60845      23940  1:40:48 \n",
       "13   192.11.165.113      NaN       3   131      24867      45029  1:55:12 \n",
       "18   192.209.96.137      NaN       3   199       2452      16027  2:24:00 "
      ],
      "text/html": "<div>\n<style scoped>\n    .dataframe tbody tr th:only-of-type {\n        vertical-align: middle;\n    }\n\n    .dataframe tbody tr th {\n        vertical-align: top;\n    }\n\n    .dataframe thead th {\n        text-align: right;\n    }\n</style>\n<table border=\"1\" class=\"dataframe\">\n  <thead>\n    <tr style=\"text-align: right;\">\n      <th></th>\n      <th>Sour IP</th>\n      <th>Dest IP</th>\n      <th>Numb P</th>\n      <th>Data</th>\n      <th>Sour Port</th>\n      <th>Dest Port</th>\n      <th>Time</th>\n    </tr>\n  </thead>\n  <tbody>\n    <tr>\n      <th>1</th>\n      <td>192.111.168.170</td>\n      <td>NaN</td>\n      <td>2</td>\n      <td>138</td>\n      <td>43414</td>\n      <td>41879</td>\n      <td>0:43:12</td>\n    </tr>\n    <tr>\n      <th>3</th>\n      <td>192.83.225.215</td>\n      <td>NaN</td>\n      <td>3</td>\n      <td>135</td>\n      <td>8158</td>\n      <td>11146</td>\n      <td>1:40:48</td>\n    </tr>\n    <tr>\n      <th>5</th>\n      <td>192.41.29.75</td>\n      <td>NaN</td>\n      <td>2</td>\n      <td>79</td>\n      <td>60845</td>\n      <td>23940</td>\n      <td>1:40:48</td>\n    </tr>\n    <tr>\n      <th>13</th>\n      <td>192.11.165.113</td>\n      <td>NaN</td>\n      <td>3</td>\n      <td>131</td>\n      <td>24867</td>\n      <td>45029</td>\n      <td>1:55:12</td>\n    </tr>\n    <tr>\n      <th>18</th>\n      <td>192.209.96.137</td>\n      <td>NaN</td>\n      <td>3</td>\n      <td>199</td>\n      <td>2452</td>\n      <td>16027</td>\n      <td>2:24:00</td>\n    </tr>\n  </tbody>\n</table>\n</div>"
     },
     "metadata": {},
     "execution_count": 34
    }
   ],
   "source": [
    "\n",
    "mask_Numb = F['Numb P'] < 5\n",
    "if np.logical_not(mask_Numb).sum() == F.shape[0]:\n",
    "    F.to_csv(c_file, sep=';', index=False)\n",
    "    os.remove(a_file)\n",
    "else:\n",
    "    F = F[mask_Numb]\n",
    "\n",
    "F.head()"
   ]
  },
  {
   "cell_type": "code",
   "execution_count": 35,
   "metadata": {},
   "outputs": [
    {
     "output_type": "execute_result",
     "data": {
      "text/plain": [
       "(101, 7)"
      ]
     },
     "metadata": {},
     "execution_count": 35
    }
   ],
   "source": [
    "F.shape"
   ]
  },
  {
   "cell_type": "code",
   "execution_count": 36,
   "metadata": {},
   "outputs": [
    {
     "output_type": "execute_result",
     "data": {
      "text/plain": [
       "             Sour IP  Dest IP  Numb P  Data  Sour Port  Dest Port     Time   \\\n",
       "276    192.100.15.85      NaN       3   244      53751      12529  0:43:12    \n",
       "23    192.105.223.33      NaN       1   234      25508       1314  0:43:12    \n",
       "189  192.106.138.125      NaN       4   268      30736      31660  1:40:48    \n",
       "13    192.11.165.113      NaN       3   131      24867      45029  1:55:12    \n",
       "1    192.111.168.170      NaN       2   138      43414      41879  0:43:12    \n",
       "\n",
       "     time  \n",
       "276  2592  \n",
       "23   2592  \n",
       "189  6048  \n",
       "13   6912  \n",
       "1    2592  "
      ],
      "text/html": "<div>\n<style scoped>\n    .dataframe tbody tr th:only-of-type {\n        vertical-align: middle;\n    }\n\n    .dataframe tbody tr th {\n        vertical-align: top;\n    }\n\n    .dataframe thead th {\n        text-align: right;\n    }\n</style>\n<table border=\"1\" class=\"dataframe\">\n  <thead>\n    <tr style=\"text-align: right;\">\n      <th></th>\n      <th>Sour IP</th>\n      <th>Dest IP</th>\n      <th>Numb P</th>\n      <th>Data</th>\n      <th>Sour Port</th>\n      <th>Dest Port</th>\n      <th>Time</th>\n      <th>time</th>\n    </tr>\n  </thead>\n  <tbody>\n    <tr>\n      <th>276</th>\n      <td>192.100.15.85</td>\n      <td>NaN</td>\n      <td>3</td>\n      <td>244</td>\n      <td>53751</td>\n      <td>12529</td>\n      <td>0:43:12</td>\n      <td>2592</td>\n    </tr>\n    <tr>\n      <th>23</th>\n      <td>192.105.223.33</td>\n      <td>NaN</td>\n      <td>1</td>\n      <td>234</td>\n      <td>25508</td>\n      <td>1314</td>\n      <td>0:43:12</td>\n      <td>2592</td>\n    </tr>\n    <tr>\n      <th>189</th>\n      <td>192.106.138.125</td>\n      <td>NaN</td>\n      <td>4</td>\n      <td>268</td>\n      <td>30736</td>\n      <td>31660</td>\n      <td>1:40:48</td>\n      <td>6048</td>\n    </tr>\n    <tr>\n      <th>13</th>\n      <td>192.11.165.113</td>\n      <td>NaN</td>\n      <td>3</td>\n      <td>131</td>\n      <td>24867</td>\n      <td>45029</td>\n      <td>1:55:12</td>\n      <td>6912</td>\n    </tr>\n    <tr>\n      <th>1</th>\n      <td>192.111.168.170</td>\n      <td>NaN</td>\n      <td>2</td>\n      <td>138</td>\n      <td>43414</td>\n      <td>41879</td>\n      <td>0:43:12</td>\n      <td>2592</td>\n    </tr>\n  </tbody>\n</table>\n</div>"
     },
     "metadata": {},
     "execution_count": 36
    }
   ],
   "source": [
    "F['time'] = [time2number(time) for time in F['Time ']]\n",
    "\n",
    "F.sort_values(by = ['Sour IP', 'time'], inplace = True)\n",
    "\n",
    "F.head()"
   ]
  },
  {
   "cell_type": "code",
   "execution_count": 37,
   "metadata": {},
   "outputs": [
    {
     "output_type": "stream",
     "name": "stderr",
     "text": [
      "C:\\Users\\qtckp\\AppData\\Roaming\\Python\\Python38\\site-packages\\numpy\\core\\fromnumeric.py:3334: RuntimeWarning: Mean of empty slice.\n  return _methods._mean(a, axis=axis, dtype=dtype,\nC:\\Users\\qtckp\\AppData\\Roaming\\Python\\Python38\\site-packages\\numpy\\core\\_methods.py:161: RuntimeWarning: invalid value encountered in double_scalars\n  ret = ret.dtype.type(ret / rcount)\n<ipython-input-37-327305e17b69>:12: SettingWithCopyWarning: \nA value is trying to be set on a copy of a slice from a DataFrame.\nTry using .loc[row_indexer,col_indexer] = value instead\n\nSee the caveats in the documentation: https://pandas.pydata.org/pandas-docs/stable/user_guide/indexing.html#returning-a-view-versus-a-copy\n  data['T2'] = T0 - T\n"
     ]
    },
    {
     "output_type": "error",
     "ename": "KeyError",
     "evalue": "1",
     "traceback": [
      "\u001b[1;31m---------------------------------------------------------------------------\u001b[0m",
      "\u001b[1;31mKeyError\u001b[0m                                  Traceback (most recent call last)",
      "\u001b[1;32m~\\AppData\\Roaming\\Python\\Python38\\site-packages\\pandas\\core\\indexes\\base.py\u001b[0m in \u001b[0;36mget_loc\u001b[1;34m(self, key, method, tolerance)\u001b[0m\n\u001b[0;32m   2894\u001b[0m             \u001b[1;32mtry\u001b[0m\u001b[1;33m:\u001b[0m\u001b[1;33m\u001b[0m\u001b[1;33m\u001b[0m\u001b[0m\n\u001b[1;32m-> 2895\u001b[1;33m                 \u001b[1;32mreturn\u001b[0m \u001b[0mself\u001b[0m\u001b[1;33m.\u001b[0m\u001b[0m_engine\u001b[0m\u001b[1;33m.\u001b[0m\u001b[0mget_loc\u001b[0m\u001b[1;33m(\u001b[0m\u001b[0mcasted_key\u001b[0m\u001b[1;33m)\u001b[0m\u001b[1;33m\u001b[0m\u001b[1;33m\u001b[0m\u001b[0m\n\u001b[0m\u001b[0;32m   2896\u001b[0m             \u001b[1;32mexcept\u001b[0m \u001b[0mKeyError\u001b[0m \u001b[1;32mas\u001b[0m \u001b[0merr\u001b[0m\u001b[1;33m:\u001b[0m\u001b[1;33m\u001b[0m\u001b[1;33m\u001b[0m\u001b[0m\n",
      "\u001b[1;32mpandas\\_libs\\index.pyx\u001b[0m in \u001b[0;36mpandas._libs.index.IndexEngine.get_loc\u001b[1;34m()\u001b[0m\n",
      "\u001b[1;32mpandas\\_libs\\index.pyx\u001b[0m in \u001b[0;36mpandas._libs.index.IndexEngine.get_loc\u001b[1;34m()\u001b[0m\n",
      "\u001b[1;32mpandas\\_libs\\hashtable_class_helper.pxi\u001b[0m in \u001b[0;36mpandas._libs.hashtable.Int64HashTable.get_item\u001b[1;34m()\u001b[0m\n",
      "\u001b[1;32mpandas\\_libs\\hashtable_class_helper.pxi\u001b[0m in \u001b[0;36mpandas._libs.hashtable.Int64HashTable.get_item\u001b[1;34m()\u001b[0m\n",
      "\u001b[1;31mKeyError\u001b[0m: 1",
      "\nThe above exception was the direct cause of the following exception:\n",
      "\u001b[1;31mKeyError\u001b[0m                                  Traceback (most recent call last)",
      "\u001b[1;32m<ipython-input-37-327305e17b69>\u001b[0m in \u001b[0;36m<module>\u001b[1;34m\u001b[0m\n\u001b[0;32m     14\u001b[0m \u001b[1;33m\u001b[0m\u001b[0m\n\u001b[0;32m     15\u001b[0m \u001b[1;33m\u001b[0m\u001b[0m\n\u001b[1;32m---> 16\u001b[1;33m \u001b[0mF\u001b[0m \u001b[1;33m=\u001b[0m \u001b[0mpd\u001b[0m\u001b[1;33m.\u001b[0m\u001b[0mconcat\u001b[0m\u001b[1;33m(\u001b[0m\u001b[1;33m[\u001b[0m\u001b[0mT_setter\u001b[0m\u001b[1;33m(\u001b[0m\u001b[0mdf\u001b[0m\u001b[1;33m)\u001b[0m \u001b[1;32mfor\u001b[0m \u001b[0mdf\u001b[0m \u001b[1;32min\u001b[0m \u001b[0mDs\u001b[0m\u001b[1;33m]\u001b[0m\u001b[1;33m)\u001b[0m\u001b[1;33m\u001b[0m\u001b[1;33m\u001b[0m\u001b[0m\n\u001b[0m\u001b[0;32m     17\u001b[0m \u001b[1;33m\u001b[0m\u001b[0m\n",
      "\u001b[1;32m<ipython-input-37-327305e17b69>\u001b[0m in \u001b[0;36m<listcomp>\u001b[1;34m(.0)\u001b[0m\n\u001b[0;32m     14\u001b[0m \u001b[1;33m\u001b[0m\u001b[0m\n\u001b[0;32m     15\u001b[0m \u001b[1;33m\u001b[0m\u001b[0m\n\u001b[1;32m---> 16\u001b[1;33m \u001b[0mF\u001b[0m \u001b[1;33m=\u001b[0m \u001b[0mpd\u001b[0m\u001b[1;33m.\u001b[0m\u001b[0mconcat\u001b[0m\u001b[1;33m(\u001b[0m\u001b[1;33m[\u001b[0m\u001b[0mT_setter\u001b[0m\u001b[1;33m(\u001b[0m\u001b[0mdf\u001b[0m\u001b[1;33m)\u001b[0m \u001b[1;32mfor\u001b[0m \u001b[0mdf\u001b[0m \u001b[1;32min\u001b[0m \u001b[0mDs\u001b[0m\u001b[1;33m]\u001b[0m\u001b[1;33m)\u001b[0m\u001b[1;33m\u001b[0m\u001b[1;33m\u001b[0m\u001b[0m\n\u001b[0m\u001b[0;32m     17\u001b[0m \u001b[1;33m\u001b[0m\u001b[0m\n",
      "\u001b[1;32m<ipython-input-37-327305e17b69>\u001b[0m in \u001b[0;36mT_setter\u001b[1;34m(data)\u001b[0m\n\u001b[0;32m      6\u001b[0m     \u001b[0mT\u001b[0m \u001b[1;33m=\u001b[0m \u001b[0mnp\u001b[0m\u001b[1;33m.\u001b[0m\u001b[0mempty\u001b[0m\u001b[1;33m(\u001b[0m\u001b[0mdata\u001b[0m\u001b[1;33m.\u001b[0m\u001b[0mshape\u001b[0m\u001b[1;33m[\u001b[0m\u001b[1;36m0\u001b[0m\u001b[1;33m]\u001b[0m\u001b[1;33m)\u001b[0m\u001b[1;33m\u001b[0m\u001b[1;33m\u001b[0m\u001b[0m\n\u001b[0;32m      7\u001b[0m     \u001b[1;32mfor\u001b[0m \u001b[0mi\u001b[0m \u001b[1;32min\u001b[0m \u001b[0mrange\u001b[0m\u001b[1;33m(\u001b[0m\u001b[1;36m1\u001b[0m\u001b[1;33m,\u001b[0m \u001b[0mdata\u001b[0m\u001b[1;33m.\u001b[0m\u001b[0mshape\u001b[0m\u001b[1;33m[\u001b[0m\u001b[1;36m0\u001b[0m\u001b[1;33m]\u001b[0m\u001b[1;33m)\u001b[0m\u001b[1;33m:\u001b[0m\u001b[1;33m\u001b[0m\u001b[1;33m\u001b[0m\u001b[0m\n\u001b[1;32m----> 8\u001b[1;33m         \u001b[0mT\u001b[0m\u001b[1;33m[\u001b[0m\u001b[0mi\u001b[0m\u001b[1;33m]\u001b[0m \u001b[1;33m=\u001b[0m \u001b[0mdata\u001b[0m\u001b[1;33m[\u001b[0m\u001b[1;34m'time'\u001b[0m\u001b[1;33m]\u001b[0m\u001b[1;33m[\u001b[0m\u001b[0mi\u001b[0m\u001b[1;33m]\u001b[0m \u001b[1;33m-\u001b[0m \u001b[0mdata\u001b[0m\u001b[1;33m[\u001b[0m\u001b[1;34m'time'\u001b[0m\u001b[1;33m]\u001b[0m\u001b[1;33m[\u001b[0m\u001b[0mi\u001b[0m\u001b[1;33m-\u001b[0m\u001b[1;36m1\u001b[0m\u001b[1;33m]\u001b[0m\u001b[1;33m\u001b[0m\u001b[1;33m\u001b[0m\u001b[0m\n\u001b[0m\u001b[0;32m      9\u001b[0m \u001b[1;33m\u001b[0m\u001b[0m\n\u001b[0;32m     10\u001b[0m     \u001b[0mT\u001b[0m\u001b[1;33m[\u001b[0m\u001b[1;36m0\u001b[0m\u001b[1;33m]\u001b[0m \u001b[1;33m=\u001b[0m \u001b[0mnp\u001b[0m\u001b[1;33m.\u001b[0m\u001b[0mmean\u001b[0m\u001b[1;33m(\u001b[0m\u001b[0mT\u001b[0m\u001b[1;33m[\u001b[0m\u001b[1;36m1\u001b[0m\u001b[1;33m:\u001b[0m\u001b[1;33m]\u001b[0m\u001b[1;33m)\u001b[0m\u001b[1;33m\u001b[0m\u001b[1;33m\u001b[0m\u001b[0m\n",
      "\u001b[1;32m~\\AppData\\Roaming\\Python\\Python38\\site-packages\\pandas\\core\\series.py\u001b[0m in \u001b[0;36m__getitem__\u001b[1;34m(self, key)\u001b[0m\n\u001b[0;32m    880\u001b[0m \u001b[1;33m\u001b[0m\u001b[0m\n\u001b[0;32m    881\u001b[0m         \u001b[1;32melif\u001b[0m \u001b[0mkey_is_scalar\u001b[0m\u001b[1;33m:\u001b[0m\u001b[1;33m\u001b[0m\u001b[1;33m\u001b[0m\u001b[0m\n\u001b[1;32m--> 882\u001b[1;33m             \u001b[1;32mreturn\u001b[0m \u001b[0mself\u001b[0m\u001b[1;33m.\u001b[0m\u001b[0m_get_value\u001b[0m\u001b[1;33m(\u001b[0m\u001b[0mkey\u001b[0m\u001b[1;33m)\u001b[0m\u001b[1;33m\u001b[0m\u001b[1;33m\u001b[0m\u001b[0m\n\u001b[0m\u001b[0;32m    883\u001b[0m \u001b[1;33m\u001b[0m\u001b[0m\n\u001b[0;32m    884\u001b[0m         \u001b[1;32mif\u001b[0m \u001b[0mis_hashable\u001b[0m\u001b[1;33m(\u001b[0m\u001b[0mkey\u001b[0m\u001b[1;33m)\u001b[0m\u001b[1;33m:\u001b[0m\u001b[1;33m\u001b[0m\u001b[1;33m\u001b[0m\u001b[0m\n",
      "\u001b[1;32m~\\AppData\\Roaming\\Python\\Python38\\site-packages\\pandas\\core\\series.py\u001b[0m in \u001b[0;36m_get_value\u001b[1;34m(self, label, takeable)\u001b[0m\n\u001b[0;32m    987\u001b[0m \u001b[1;33m\u001b[0m\u001b[0m\n\u001b[0;32m    988\u001b[0m         \u001b[1;31m# Similar to Index.get_value, but we do not fall back to positional\u001b[0m\u001b[1;33m\u001b[0m\u001b[1;33m\u001b[0m\u001b[1;33m\u001b[0m\u001b[0m\n\u001b[1;32m--> 989\u001b[1;33m         \u001b[0mloc\u001b[0m \u001b[1;33m=\u001b[0m \u001b[0mself\u001b[0m\u001b[1;33m.\u001b[0m\u001b[0mindex\u001b[0m\u001b[1;33m.\u001b[0m\u001b[0mget_loc\u001b[0m\u001b[1;33m(\u001b[0m\u001b[0mlabel\u001b[0m\u001b[1;33m)\u001b[0m\u001b[1;33m\u001b[0m\u001b[1;33m\u001b[0m\u001b[0m\n\u001b[0m\u001b[0;32m    990\u001b[0m         \u001b[1;32mreturn\u001b[0m \u001b[0mself\u001b[0m\u001b[1;33m.\u001b[0m\u001b[0mindex\u001b[0m\u001b[1;33m.\u001b[0m\u001b[0m_get_values_for_loc\u001b[0m\u001b[1;33m(\u001b[0m\u001b[0mself\u001b[0m\u001b[1;33m,\u001b[0m \u001b[0mloc\u001b[0m\u001b[1;33m,\u001b[0m \u001b[0mlabel\u001b[0m\u001b[1;33m)\u001b[0m\u001b[1;33m\u001b[0m\u001b[1;33m\u001b[0m\u001b[0m\n\u001b[0;32m    991\u001b[0m \u001b[1;33m\u001b[0m\u001b[0m\n",
      "\u001b[1;32m~\\AppData\\Roaming\\Python\\Python38\\site-packages\\pandas\\core\\indexes\\base.py\u001b[0m in \u001b[0;36mget_loc\u001b[1;34m(self, key, method, tolerance)\u001b[0m\n\u001b[0;32m   2895\u001b[0m                 \u001b[1;32mreturn\u001b[0m \u001b[0mself\u001b[0m\u001b[1;33m.\u001b[0m\u001b[0m_engine\u001b[0m\u001b[1;33m.\u001b[0m\u001b[0mget_loc\u001b[0m\u001b[1;33m(\u001b[0m\u001b[0mcasted_key\u001b[0m\u001b[1;33m)\u001b[0m\u001b[1;33m\u001b[0m\u001b[1;33m\u001b[0m\u001b[0m\n\u001b[0;32m   2896\u001b[0m             \u001b[1;32mexcept\u001b[0m \u001b[0mKeyError\u001b[0m \u001b[1;32mas\u001b[0m \u001b[0merr\u001b[0m\u001b[1;33m:\u001b[0m\u001b[1;33m\u001b[0m\u001b[1;33m\u001b[0m\u001b[0m\n\u001b[1;32m-> 2897\u001b[1;33m                 \u001b[1;32mraise\u001b[0m \u001b[0mKeyError\u001b[0m\u001b[1;33m(\u001b[0m\u001b[0mkey\u001b[0m\u001b[1;33m)\u001b[0m \u001b[1;32mfrom\u001b[0m \u001b[0merr\u001b[0m\u001b[1;33m\u001b[0m\u001b[1;33m\u001b[0m\u001b[0m\n\u001b[0m\u001b[0;32m   2898\u001b[0m \u001b[1;33m\u001b[0m\u001b[0m\n\u001b[0;32m   2899\u001b[0m         \u001b[1;32mif\u001b[0m \u001b[0mtolerance\u001b[0m \u001b[1;32mis\u001b[0m \u001b[1;32mnot\u001b[0m \u001b[1;32mNone\u001b[0m\u001b[1;33m:\u001b[0m\u001b[1;33m\u001b[0m\u001b[1;33m\u001b[0m\u001b[0m\n",
      "\u001b[1;31mKeyError\u001b[0m: 1"
     ]
    }
   ],
   "source": [
    "\n",
    "\n",
    "Ds = [F[F['Sour IP'] == sour] for sour in pd.unique(F['Sour IP'])]\n",
    "\n",
    "\n",
    "def T_setter(data):\n",
    "\n",
    "    T = np.empty(data.shape[0])\n",
    "    for i in range(1, data.shape[0]):\n",
    "        T[i] = data['time'][i] - data['time'][i-1]\n",
    "\n",
    "    T[0] = np.mean(T[1:])\n",
    "\n",
    "    data['T2'] = T0 - T\n",
    "    return data\n",
    "\n",
    "\n",
    "#F = pd.concat([T_setter(df) for df in Ds])\n",
    "\n",
    "toSee = [T_setter(df) for df in Ds]"
   ]
  },
  {
   "cell_type": "code",
   "execution_count": null,
   "metadata": {},
   "outputs": [],
   "source": []
  },
  {
   "cell_type": "code",
   "execution_count": null,
   "metadata": {},
   "outputs": [],
   "source": []
  },
  {
   "cell_type": "code",
   "execution_count": null,
   "metadata": {},
   "outputs": [],
   "source": []
  },
  {
   "cell_type": "code",
   "execution_count": null,
   "metadata": {},
   "outputs": [],
   "source": []
  },
  {
   "cell_type": "code",
   "execution_count": null,
   "metadata": {},
   "outputs": [],
   "source": []
  }
 ]
}